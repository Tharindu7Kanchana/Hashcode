{
  "nbformat": 4,
  "nbformat_minor": 0,
  "metadata": {
    "colab": {
      "name": "K Fold AUC.ipynb",
      "provenance": [],
      "include_colab_link": true
    },
    "kernelspec": {
      "name": "python3",
      "display_name": "Python 3"
    },
    "language_info": {
      "name": "python"
    },
    "accelerator": "GPU"
  },
  "cells": [
    {
      "cell_type": "markdown",
      "metadata": {
        "id": "view-in-github",
        "colab_type": "text"
      },
      "source": [
        "<a href=\"https://colab.research.google.com/github/Tharindu7Kanchana/Hashcode/blob/master/K_Fold_AUC_Sgd_metricesipynb\" target=\"_parent\"><img src=\"https://colab.research.google.com/assets/colab-badge.svg\" alt=\"Open In Colab\"/></a>"
      ]
    },
    {
      "cell_type": "code",
      "metadata": {
        "id": "qNx9GR_K5H9f"
      },
      "source": [
        "# Binary Classification with Sonar Dataset: Baseline\n",
        "import pandas as pd\n",
        "from pandas import read_csv\n",
        "from keras.models import Sequential\n",
        "from keras.layers import Dense\n",
        "from keras.wrappers.scikit_learn import KerasClassifier\n",
        "from sklearn.model_selection import cross_val_score\n",
        "from sklearn.preprocessing import LabelEncoder\n",
        "from sklearn.model_selection import StratifiedKFold\n",
        "import matplotlib.pyplot as plt\n",
        "import numpy as np\n",
        "from sklearn.metrics import plot_roc_curve\n",
        "from sklearn.metrics import auc\n",
        "from sklearn.metrics import precision_recall_fscore_support\n",
        "from statistics import mean "
      ],
      "execution_count": 25,
      "outputs": []
    },
    {
      "cell_type": "code",
      "metadata": {
        "colab": {
          "base_uri": "https://localhost:8080/"
        },
        "id": "MIUklGmd5QCO",
        "outputId": "58f157c2-a826-46d8-f383-c16e5070a265"
      },
      "source": [
        "!git clone 'https://github.com/sachinkavindaa/Machine-learning-with-Python'"
      ],
      "execution_count": 20,
      "outputs": [
        {
          "output_type": "stream",
          "name": "stdout",
          "text": [
            "fatal: destination path 'Machine-learning-with-Python' already exists and is not an empty directory.\n"
          ]
        }
      ]
    },
    {
      "cell_type": "code",
      "metadata": {
        "id": "JrlpWE-45R5W"
      },
      "source": [
        "df = pd.read_csv('/content/Machine-learning-with-Python/ML/Diabetes/diabetes.csv')"
      ],
      "execution_count": 21,
      "outputs": []
    },
    {
      "cell_type": "code",
      "metadata": {
        "colab": {
          "base_uri": "https://localhost:8080/"
        },
        "id": "VeVr9frO5T6e",
        "outputId": "d7d6464a-5fb8-4fae-ab11-67e7124fe28f"
      },
      "source": [
        "df_mod = df[(df.Blood_Pressure != 0) & (df.BMI != 0) & (df.Glucose != 0)]\n",
        "df_mod.shape"
      ],
      "execution_count": 22,
      "outputs": [
        {
          "output_type": "execute_result",
          "data": {
            "text/plain": [
              "(724, 9)"
            ]
          },
          "metadata": {},
          "execution_count": 22
        }
      ]
    },
    {
      "cell_type": "code",
      "metadata": {
        "id": "mHPGFfD-5XMo"
      },
      "source": [
        "def min_max_scaling(df_mod):\n",
        "    \n",
        "    df_norm = df_mod.copy()\n",
        "    \n",
        "    \n",
        "    for column in df_norm.columns:\n",
        "        df_norm[column] = (df_norm[column] - df_norm[column].min()) / (df_norm[column].max() - df_norm[column].min())\n",
        "        \n",
        "    return df_norm\n",
        "\n",
        "df_scaled = min_max_scaling(df_mod)"
      ],
      "execution_count": 23,
      "outputs": []
    },
    {
      "cell_type": "code",
      "metadata": {
        "id": "fIAqf7Db5Y9P"
      },
      "source": [
        "feature_names = ['Pregnancies', 'Glucose', 'Blood_Pressure', 'Skin_Thickness', 'Insulin', 'BMI', 'Diabetes_Pedigree_Function', 'Age']\n",
        "X = df_scaled[feature_names]\n",
        "y = df_scaled.Outcome"
      ],
      "execution_count": 24,
      "outputs": []
    },
    {
      "cell_type": "code",
      "metadata": {
        "id": "TdN8JmTd5r7n"
      },
      "source": [
        "def create_network():\n",
        "    \n",
        "    # Start neural network\n",
        "    network = Sequential()\n",
        "\n",
        "    # Add fully connected layer with a ReLU activation function\n",
        "    network.add(Dense(units=10, activation='relu', input_shape=(8,)))\n",
        "\n",
        "    # Add fully connected layer with a ReLU activation function\n",
        "    network.add(Dense(units=3, activation='relu'))\n",
        "\n",
        "    # Add fully connected layer with a sigmoid activation function\n",
        "    network.add(Dense(units=1, activation='sigmoid'))\n",
        "\n",
        "    # Compile neural network\n",
        "    network.compile(loss='binary_crossentropy', # Cross-entropy\n",
        "                    optimizer='sgd', # Root Mean Square Propagation\n",
        "                    metrics=['accuracy']) # Accuracy performance metric\n",
        "    \n",
        "    # Return compiled network\n",
        "    return network"
      ],
      "execution_count": 26,
      "outputs": []
    },
    {
      "cell_type": "code",
      "metadata": {
        "id": "O8VFlwDX6rgG"
      },
      "source": [
        "def is_classifier(estimator):\n",
        "   \n",
        "    return getattr(estimator, \"_estimator_type\", None) == \"classifier\""
      ],
      "execution_count": 27,
      "outputs": []
    },
    {
      "cell_type": "code",
      "metadata": {
        "colab": {
          "base_uri": "https://localhost:8080/",
          "height": 351
        },
        "id": "JxzKfPL858k-",
        "outputId": "3b4a8bcf-7e6d-4f28-bffc-36ecbc4419c3"
      },
      "source": [
        "cv = StratifiedKFold(n_splits=5)\n",
        "# Wrap Keras model so it can be used by scikit-learn\n",
        "classifier = KerasClassifier(build_fn=create_network, \n",
        "                                 epochs=500, \n",
        "                                 batch_size=16, \n",
        "                                 verbose=0)\n",
        "\n",
        "classifier._estimator_type = \"classifier\"\n",
        "#Plotting the ROC curve\n",
        "tprs = []\n",
        "aucs = []\n",
        "mean_fpr = np.linspace(0, 1, 100)\n",
        "\n",
        "fig, ax = plt.subplots()\n",
        "scores = []\n",
        "cls_reports = []\n",
        "colors = list(['tan','lime','orange','indigo','maroon'])\n",
        "for i, (train, test) in enumerate(cv.split(X, y)):\n",
        "    history = classifier.fit(X.iloc[train], y.iloc[train])\n",
        "    score = classifier.score(X.iloc[test], y.iloc[test])\n",
        "    y_pred = classifier.predict(X.iloc[test])\n",
        "    cls_report = precision_recall_fscore_support(y.iloc[test],y_pred)\n",
        "    viz = plot_roc_curve(classifier, X.iloc[test], y.iloc[test],\n",
        "                         name='ROC fold {}'.format(i+1),\n",
        "                         alpha=0.5, lw=1.5, ax=ax )\n",
        "    interp_tpr = np.interp(mean_fpr, viz.fpr, viz.tpr)\n",
        "    interp_tpr[0] = 0.0\n",
        "    tprs.append(interp_tpr)\n",
        "    aucs.append(viz.roc_auc)\n",
        "    scores.append(score)\n",
        "    cls_reports.append(cls_report)\n",
        "\n",
        "ax.plot([0, 1], [0, 1], linestyle='--', lw=2, color='r',\n",
        "        label='Chance', alpha=.8)\n",
        "\n",
        "mean_tpr = np.mean(tprs, axis=0)\n",
        "mean_tpr[-1] = 1.0\n",
        "mean_auc = auc(mean_fpr, mean_tpr)\n",
        "std_auc = np.std(aucs)\n",
        "\n",
        "ax.plot(mean_fpr, mean_tpr, color='b',\n",
        "        label=r'Mean ROC (AUC = %0.2f $\\pm$ %0.2f)' % (mean_auc, std_auc),\n",
        "        lw=2, alpha=.8)\n",
        "\n",
        "std_tpr = np.std(tprs, axis=0)\n",
        "tprs_upper = np.minimum(mean_tpr + std_tpr, 1)\n",
        "tprs_lower = np.maximum(mean_tpr - std_tpr, 0)\n",
        "ax.fill_between(mean_fpr, tprs_lower, tprs_upper, color='grey', alpha=.2,\n",
        "                label=r'$\\pm$ 1 std. dev.')\n",
        "\n",
        "ax.set(xlim=[-0.05, 1.05], ylim=[-0.05, 1.05],\n",
        "       title=\"ROC for Adam Optimizer\")\n",
        "ax.legend(loc=\"lower right\")\n",
        "plt.show()"
      ],
      "execution_count": 28,
      "outputs": [
        {
          "output_type": "stream",
          "name": "stderr",
          "text": [
            "/usr/local/lib/python3.7/dist-packages/sklearn/metrics/_classification.py:1272: UndefinedMetricWarning: Precision and F-score are ill-defined and being set to 0.0 in labels with no predicted samples. Use `zero_division` parameter to control this behavior.\n",
            "  _warn_prf(average, modifier, msg_start, len(result))\n"
          ]
        },
        {
          "output_type": "display_data",
          "data": {
            "image/png": "[encoded data removed]",
            "text/plain": [
              "<Figure size 432x288 with 1 Axes>"
            ]
          },
          "metadata": {
            "needs_background": "light"
          }
        }
      ]
    },
    {
      "cell_type": "code",
      "metadata": {
        "colab": {
          "base_uri": "https://localhost:8080/"
        },
        "id": "0P-Nxk_vMORA",
        "outputId": "373fff9f-3820-4536-b42e-8da973b6a356"
      },
      "source": [
        "mean(scores)"
      ],
      "execution_count": 29,
      "outputs": [
        {
          "output_type": "execute_result",
          "data": {
            "text/plain": [
              "0.7362452030181885"
            ]
          },
          "metadata": {},
          "execution_count": 29
        }
      ]
    },
    {
      "cell_type": "code",
      "metadata": {
        "colab": {
          "base_uri": "https://localhost:8080/"
        },
        "id": "lwyZ14dpTIcS",
        "outputId": "770f0086-8f2d-4219-928c-f3092fb3eff2"
      },
      "source": [
        "mean(aucs)"
      ],
      "execution_count": 30,
      "outputs": [
        {
          "output_type": "execute_result",
          "data": {
            "text/plain": [
              "0.7612683136412459"
            ]
          },
          "metadata": {},
          "execution_count": 30
        }
      ]
    },
    {
      "cell_type": "code",
      "metadata": {
        "colab": {
          "base_uri": "https://localhost:8080/",
          "height": 313
        },
        "id": "jEEg_RHXNWMh",
        "outputId": "8c7498f4-2a16-4d70-d3f6-286037096e9a"
      },
      "source": [
        "acc = history.history['accuracy']\n",
        "#val_accuracy = history.history['val_accuracy']\n",
        "plt.plot(range(5), scores, marker = '.', markersize = 10)\n",
        "plt.title('Training and validation accuracy')\n",
        "plt.xlabel('Epochs')\n",
        "plt.ylabel('Accuracy')\n",
        "plt.legend()\n",
        "plt.show()"
      ],
      "execution_count": 31,
      "outputs": [
        {
          "output_type": "stream",
          "name": "stderr",
          "text": [
            "No handles with labels found to put in legend.\n"
          ]
        },
        {
          "output_type": "display_data",
          "data": {
            "image/png": "[encoded data removed]",
            "text/plain": [
              "<Figure size 432x288 with 1 Axes>"
            ]
          },
          "metadata": {
            "needs_background": "light"
          }
        }
      ]
    },
    {
      "cell_type": "code",
      "metadata": {
        "colab": {
          "base_uri": "https://localhost:8080/"
        },
        "id": "qn50Nm_oDQD9",
        "outputId": "f9468f25-139f-48ec-bc09-75afc2d6118d"
      },
      "source": [
        "mean(aucs)"
      ],
      "execution_count": 32,
      "outputs": [
        {
          "output_type": "execute_result",
          "data": {
            "text/plain": [
              "0.7612683136412459"
            ]
          },
          "metadata": {},
          "execution_count": 32
        }
      ]
    },
    {
      "cell_type": "code",
      "metadata": {
        "colab": {
          "base_uri": "https://localhost:8080/",
          "height": 295
        },
        "id": "W7eez0t7FCKw",
        "outputId": "e2911958-7e07-4696-b8db-4be629b1468f"
      },
      "source": [
        "acc = history.history['accuracy']\n",
        "#val_accuracy = history.history['val_accuracy']\n",
        "plt.plot(range(500), acc, 'y', label='Training acc')\n",
        "#plt.plot(epochs, val_acc, 'r', label='Validation acc')\n",
        "plt.title('Training and validation accuracy')\n",
        "plt.xlabel('Epochs')\n",
        "plt.ylabel('Accuracy')\n",
        "plt.legend()\n",
        "plt.show()"
      ],
      "execution_count": 33,
      "outputs": [
        {
          "output_type": "display_data",
          "data": {
            "image/png": "[encoded data removed]",
            "text/plain": [
              "<Figure size 432x288 with 1 Axes>"
            ]
          },
          "metadata": {
            "needs_background": "light"
          }
        }
      ]
    },
    {
      "cell_type": "code",
      "metadata": {
        "id": "VlJV_mrQ0KSk"
      },
      "source": [
        "neg = []\n",
        "pos = []\n",
        "for i in cls_reports:\n",
        "  neg.append([j[0] for j in i])\n",
        "  pos.append([j[1] for j in i])"
      ],
      "execution_count": 34,
      "outputs": []
    },
    {
      "cell_type": "code",
      "metadata": {
        "id": "kbvUMjrG84f3"
      },
      "source": [
        "neg_recall = []\n",
        "for i in range(len(neg)):\n",
        "  neg_recall.append(neg[i][1])"
      ],
      "execution_count": 35,
      "outputs": []
    },
    {
      "cell_type": "code",
      "metadata": {
        "colab": {
          "base_uri": "https://localhost:8080/"
        },
        "id": "inY2ZoEn876M",
        "outputId": "29ef7d68-c0b6-4c95-f05c-79f883c423b3"
      },
      "source": [
        "mean(neg_recall)"
      ],
      "execution_count": 36,
      "outputs": [
        {
          "output_type": "execute_result",
          "data": {
            "text/plain": [
              "0.8821052631578947"
            ]
          },
          "metadata": {},
          "execution_count": 36
        }
      ]
    },
    {
      "cell_type": "code",
      "metadata": {
        "colab": {
          "base_uri": "https://localhost:8080/"
        },
        "id": "Xp8NEanq8-hp",
        "outputId": "7d534267-5e92-4646-f4b4-9cf9b0c1d20c"
      },
      "source": [
        "pos_recall = []\n",
        "for i in range(len(pos)):\n",
        "  pos_recall.append(pos[i][1])\n",
        "mean(pos_recall)"
      ],
      "execution_count": 37,
      "outputs": [
        {
          "output_type": "execute_result",
          "data": {
            "text/plain": [
              "0.458204081632653"
            ]
          },
          "metadata": {},
          "execution_count": 37
        }
      ]
    }
  ]
}